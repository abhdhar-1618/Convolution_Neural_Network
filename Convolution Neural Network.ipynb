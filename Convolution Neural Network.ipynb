{
 "cells": [
  {
   "cell_type": "markdown",
   "id": "4b24d13d",
   "metadata": {},
   "source": [
    "### Importing the libraries"
   ]
  },
  {
   "cell_type": "code",
   "execution_count": 19,
   "id": "184caeaf",
   "metadata": {},
   "outputs": [],
   "source": [
    "import tensorflow as tf\n",
    "from tensorflow.keras.preprocessing.image import ImageDataGenerator, img_to_array\n",
    "import numpy as np\n",
    "from PIL import Image\n",
    "from tensorflow.keras.preprocessing import image"
   ]
  },
  {
   "cell_type": "markdown",
   "id": "ec662551",
   "metadata": {},
   "source": [
    "## Part 1 - Data Preprocessing"
   ]
  },
  {
   "cell_type": "markdown",
   "id": "2253dd67",
   "metadata": {},
   "source": [
    "### Preprocessing the training Set"
   ]
  },
  {
   "cell_type": "code",
   "execution_count": 4,
   "id": "d34f74cc",
   "metadata": {},
   "outputs": [
    {
     "name": "stdout",
     "output_type": "stream",
     "text": [
      "Found 8000 images belonging to 2 classes.\n"
     ]
    }
   ],
   "source": [
    "train_datagen = ImageDataGenerator(\n",
    "        rescale=1./255,\n",
    "        shear_range=0.2,\n",
    "        zoom_range=0.2,\n",
    "        horizontal_flip=True)\n",
    "training_set = train_datagen.flow_from_directory(\n",
    "        'dataset/training_set',\n",
    "        target_size=(64, 64),\n",
    "        batch_size=32,\n",
    "        class_mode='binary')"
   ]
  },
  {
   "cell_type": "markdown",
   "id": "e8e6a11c",
   "metadata": {},
   "source": [
    "### Preprocessing the Test Set"
   ]
  },
  {
   "cell_type": "code",
   "execution_count": 5,
   "id": "910bcd73",
   "metadata": {},
   "outputs": [
    {
     "name": "stdout",
     "output_type": "stream",
     "text": [
      "Found 2000 images belonging to 2 classes.\n"
     ]
    }
   ],
   "source": [
    "test_datagen = ImageDataGenerator(rescale=1./255)\n",
    "test_set = test_datagen.flow_from_directory(\n",
    "        'dataset/test_set',\n",
    "        target_size=(64, 64),\n",
    "        batch_size=32,\n",
    "        class_mode='binary')"
   ]
  },
  {
   "cell_type": "markdown",
   "id": "dc58826b",
   "metadata": {},
   "source": [
    "## Part 2 - Building the CNN"
   ]
  },
  {
   "cell_type": "markdown",
   "id": "e43f28ce",
   "metadata": {},
   "source": [
    "### Initialising the CNN"
   ]
  },
  {
   "cell_type": "code",
   "execution_count": 6,
   "id": "eca42a23",
   "metadata": {},
   "outputs": [],
   "source": [
    "cnn = tf.keras.models.Sequential()"
   ]
  },
  {
   "cell_type": "markdown",
   "id": "86a6e4bf",
   "metadata": {},
   "source": [
    "### Step 1 - Convolution"
   ]
  },
  {
   "cell_type": "code",
   "execution_count": 7,
   "id": "c33891a1",
   "metadata": {},
   "outputs": [],
   "source": [
    "cnn.add(tf.keras.layers.Conv2D(filters=32, kernel_size=3, activation='relu', input_shape=[64, 64, 3]))"
   ]
  },
  {
   "cell_type": "markdown",
   "id": "2659942e",
   "metadata": {},
   "source": [
    "### Step 2 - Pooling"
   ]
  },
  {
   "cell_type": "code",
   "execution_count": 8,
   "id": "2bf32e35",
   "metadata": {},
   "outputs": [],
   "source": [
    "cnn.add(tf.keras.layers.MaxPool2D(pool_size=2, strides=2))"
   ]
  },
  {
   "cell_type": "markdown",
   "id": "0c1e38fe",
   "metadata": {},
   "source": [
    "### Adding a second convolution layer"
   ]
  },
  {
   "cell_type": "code",
   "execution_count": 9,
   "id": "864cbae5",
   "metadata": {},
   "outputs": [],
   "source": [
    "cnn.add(tf.keras.layers.Conv2D(filters=32, kernel_size=3, activation='relu'))\n",
    "cnn.add(tf.keras.layers.MaxPool2D(pool_size=2, strides=2))"
   ]
  },
  {
   "cell_type": "markdown",
   "id": "c75d75bc",
   "metadata": {},
   "source": [
    "### Step 3 - Flattening"
   ]
  },
  {
   "cell_type": "code",
   "execution_count": 10,
   "id": "fbbe5b03",
   "metadata": {},
   "outputs": [],
   "source": [
    "cnn.add(tf.keras.layers.Flatten())"
   ]
  },
  {
   "cell_type": "markdown",
   "id": "18502bdb",
   "metadata": {},
   "source": [
    "### Step 4 - Full Connection"
   ]
  },
  {
   "cell_type": "code",
   "execution_count": 11,
   "id": "8bf803f8",
   "metadata": {},
   "outputs": [],
   "source": [
    "cnn.add(tf.keras.layers.Dense(units=128, activation='relu'))"
   ]
  },
  {
   "cell_type": "markdown",
   "id": "504ac05c",
   "metadata": {},
   "source": [
    "### Step 5 - Output Layer"
   ]
  },
  {
   "cell_type": "code",
   "execution_count": 12,
   "id": "e7941ee2",
   "metadata": {},
   "outputs": [],
   "source": [
    "cnn.add(tf.keras.layers.Dense(units=1, activation='sigmoid'))"
   ]
  },
  {
   "cell_type": "markdown",
   "id": "a9a8c008",
   "metadata": {},
   "source": [
    "## Part 3 - Training the CNN"
   ]
  },
  {
   "cell_type": "markdown",
   "id": "c8d6bcf9",
   "metadata": {},
   "source": [
    "### Compiling the CNN"
   ]
  },
  {
   "cell_type": "code",
   "execution_count": 13,
   "id": "ee0b2d11",
   "metadata": {},
   "outputs": [],
   "source": [
    "cnn.compile(optimizer='adam', loss = 'binary_crossentropy', metrics=['accuracy'])"
   ]
  },
  {
   "cell_type": "markdown",
   "id": "2209b730",
   "metadata": {},
   "source": [
    "### Training the CNN on the Training set and evaluating it on the Test set"
   ]
  },
  {
   "cell_type": "code",
   "execution_count": 14,
   "id": "8f64cbab",
   "metadata": {},
   "outputs": [
    {
     "name": "stdout",
     "output_type": "stream",
     "text": [
      "Epoch 1/25\n",
      "250/250 [==============================] - 68s 270ms/step - loss: 0.6738 - accuracy: 0.5756 - val_loss: 0.6323 - val_accuracy: 0.6700\n",
      "Epoch 2/25\n",
      "250/250 [==============================] - 28s 113ms/step - loss: 0.6102 - accuracy: 0.6739 - val_loss: 0.5696 - val_accuracy: 0.7175\n",
      "Epoch 3/25\n",
      "250/250 [==============================] - 28s 113ms/step - loss: 0.5672 - accuracy: 0.7081 - val_loss: 0.5586 - val_accuracy: 0.7215\n",
      "Epoch 4/25\n",
      "250/250 [==============================] - 44s 174ms/step - loss: 0.5352 - accuracy: 0.7364 - val_loss: 0.5356 - val_accuracy: 0.7330\n",
      "Epoch 5/25\n",
      "250/250 [==============================] - 46s 186ms/step - loss: 0.5126 - accuracy: 0.7517 - val_loss: 0.5052 - val_accuracy: 0.7550\n",
      "Epoch 6/25\n",
      "250/250 [==============================] - 30s 118ms/step - loss: 0.5011 - accuracy: 0.7566 - val_loss: 0.5274 - val_accuracy: 0.7555\n",
      "Epoch 7/25\n",
      "250/250 [==============================] - 30s 119ms/step - loss: 0.4776 - accuracy: 0.7729 - val_loss: 0.5209 - val_accuracy: 0.7600\n",
      "Epoch 8/25\n",
      "250/250 [==============================] - 29s 114ms/step - loss: 0.4713 - accuracy: 0.7735 - val_loss: 0.4810 - val_accuracy: 0.7785\n",
      "Epoch 9/25\n",
      "250/250 [==============================] - 29s 116ms/step - loss: 0.4641 - accuracy: 0.7831 - val_loss: 0.4602 - val_accuracy: 0.7855\n",
      "Epoch 10/25\n",
      "250/250 [==============================] - 30s 118ms/step - loss: 0.4480 - accuracy: 0.7911 - val_loss: 0.4635 - val_accuracy: 0.7910\n",
      "Epoch 11/25\n",
      "250/250 [==============================] - 31s 124ms/step - loss: 0.4418 - accuracy: 0.7885 - val_loss: 0.4471 - val_accuracy: 0.7975\n",
      "Epoch 12/25\n",
      "250/250 [==============================] - 29s 118ms/step - loss: 0.4326 - accuracy: 0.8012 - val_loss: 0.4551 - val_accuracy: 0.7935\n",
      "Epoch 13/25\n",
      "250/250 [==============================] - 31s 123ms/step - loss: 0.4218 - accuracy: 0.8045 - val_loss: 0.4718 - val_accuracy: 0.7895\n",
      "Epoch 14/25\n",
      "250/250 [==============================] - 31s 123ms/step - loss: 0.4104 - accuracy: 0.8104 - val_loss: 0.5111 - val_accuracy: 0.7790\n",
      "Epoch 15/25\n",
      "250/250 [==============================] - 29s 117ms/step - loss: 0.4054 - accuracy: 0.8121 - val_loss: 0.4414 - val_accuracy: 0.8030\n",
      "Epoch 16/25\n",
      "250/250 [==============================] - 29s 117ms/step - loss: 0.3932 - accuracy: 0.8231 - val_loss: 0.4427 - val_accuracy: 0.8080\n",
      "Epoch 17/25\n",
      "250/250 [==============================] - 28s 112ms/step - loss: 0.3905 - accuracy: 0.8239 - val_loss: 0.4619 - val_accuracy: 0.8100\n",
      "Epoch 18/25\n",
      "250/250 [==============================] - 29s 117ms/step - loss: 0.3776 - accuracy: 0.8324 - val_loss: 0.4540 - val_accuracy: 0.7925\n",
      "Epoch 19/25\n",
      "250/250 [==============================] - 29s 114ms/step - loss: 0.3686 - accuracy: 0.8349 - val_loss: 0.4725 - val_accuracy: 0.7940\n",
      "Epoch 20/25\n",
      "250/250 [==============================] - 29s 116ms/step - loss: 0.3612 - accuracy: 0.8371 - val_loss: 0.4454 - val_accuracy: 0.8110\n",
      "Epoch 21/25\n",
      "250/250 [==============================] - 32s 129ms/step - loss: 0.3504 - accuracy: 0.8428 - val_loss: 0.4479 - val_accuracy: 0.8085\n",
      "Epoch 22/25\n",
      "250/250 [==============================] - 28s 113ms/step - loss: 0.3403 - accuracy: 0.8509 - val_loss: 0.4595 - val_accuracy: 0.8030\n",
      "Epoch 23/25\n",
      "250/250 [==============================] - 30s 121ms/step - loss: 0.3366 - accuracy: 0.8556 - val_loss: 0.4387 - val_accuracy: 0.8110\n",
      "Epoch 24/25\n",
      "250/250 [==============================] - 30s 121ms/step - loss: 0.3283 - accuracy: 0.8561 - val_loss: 0.5401 - val_accuracy: 0.7870\n",
      "Epoch 25/25\n",
      "250/250 [==============================] - 31s 124ms/step - loss: 0.3316 - accuracy: 0.8510 - val_loss: 0.4517 - val_accuracy: 0.8100\n"
     ]
    },
    {
     "data": {
      "text/plain": [
       "<keras.callbacks.History at 0x1a498114d30>"
      ]
     },
     "execution_count": 14,
     "metadata": {},
     "output_type": "execute_result"
    }
   ],
   "source": [
    "cnn.fit(x = training_set, validation_data = test_set, epochs = 25)"
   ]
  },
  {
   "cell_type": "markdown",
   "id": "394e8986",
   "metadata": {},
   "source": [
    "### Making a single prediction"
   ]
  },
  {
   "cell_type": "code",
   "execution_count": 25,
   "id": "f0344e3c",
   "metadata": {},
   "outputs": [
    {
     "name": "stdout",
     "output_type": "stream",
     "text": [
      "1/1 [==============================] - 0s 17ms/step\n",
      "cat\n"
     ]
    }
   ],
   "source": [
    "# Load and preprocess the image\n",
    "test_image = Image.open('dataset/single_prediction/cat.4002.jpg')\n",
    "test_image = test_image.resize((64, 64))\n",
    "test_image = img_to_array(test_image)\n",
    "test_image = np.expand_dims(test_image, axis=0)\n",
    "test_image = test_image / 255.0\n",
    "\n",
    "# Make the prediction\n",
    "result = cnn.predict(test_image)\n",
    "training_set.class_indices\n",
    "\n",
    "if result[0][0] > 0.5:\n",
    "    prediction = 'dog'\n",
    "else:\n",
    "    prediction = 'cat'\n",
    "\n",
    "print(prediction)"
   ]
  },
  {
   "cell_type": "code",
   "execution_count": null,
   "id": "31167078",
   "metadata": {},
   "outputs": [],
   "source": []
  }
 ],
 "metadata": {
  "kernelspec": {
   "display_name": "Python 3 (ipykernel)",
   "language": "python",
   "name": "python3"
  },
  "language_info": {
   "codemirror_mode": {
    "name": "ipython",
    "version": 3
   },
   "file_extension": ".py",
   "mimetype": "text/x-python",
   "name": "python",
   "nbconvert_exporter": "python",
   "pygments_lexer": "ipython3",
   "version": "3.8.16"
  },
  "varInspector": {
   "cols": {
    "lenName": 16,
    "lenType": 16,
    "lenVar": 40
   },
   "kernels_config": {
    "python": {
     "delete_cmd_postfix": "",
     "delete_cmd_prefix": "del ",
     "library": "var_list.py",
     "varRefreshCmd": "print(var_dic_list())"
    },
    "r": {
     "delete_cmd_postfix": ") ",
     "delete_cmd_prefix": "rm(",
     "library": "var_list.r",
     "varRefreshCmd": "cat(var_dic_list()) "
    }
   },
   "types_to_exclude": [
    "module",
    "function",
    "builtin_function_or_method",
    "instance",
    "_Feature"
   ],
   "window_display": false
  }
 },
 "nbformat": 4,
 "nbformat_minor": 5
}
